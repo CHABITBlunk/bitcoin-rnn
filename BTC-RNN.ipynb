{
 "cells": [
  {
   "cell_type": "markdown",
   "metadata": {},
   "source": [
    "# <strong>Bitcoin Recurrent Neural Network<strong>\n",
    "### Justin Marlor & Habit Blunk\n",
    "##### *Colorado State University*"
   ]
  },
  {
   "cell_type": "code",
   "execution_count": null,
   "metadata": {},
   "outputs": [],
   "source": [
    "# Imports\n"
   ]
  }
 ],
 "metadata": {
  "language_info": {
   "name": "python"
  }
 },
 "nbformat": 4,
 "nbformat_minor": 2
}
