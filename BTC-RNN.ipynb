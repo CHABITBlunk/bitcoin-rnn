{
 "cells": [
  {
   "cell_type": "markdown",
   "metadata": {},
   "source": [
    "# <strong>Bitcoin Recurrent Neural Network<strong>\n",
    "### Justin Marlor & Habit Blunk\n",
    "##### *Colorado State University*\n",
    "\n",
    "This is our notebook that automatically copies data from [this dataset hosted on Kaggle](https://www.kaggle.com/datasets/mczielinski/bitcoin-historical-data), then throws it into various neural networks and predicts the price of Bitcoin.\n",
    "\n",
    "To run it:\n",
    "\n",
    "1. Run the script located in this repository at `./env-script`. This will set up your virtual environment. \n",
    "2. Run `source ./venv/bin/activate`. This will put you in the virtual environment we have set up, so this notebook can be run on any machine so long as it has Python 3.x and can install the dependencies at `./dependencies.txt`.\n",
    "3. Paste this into `~/.config/kaggle/kaggle.json`:\n",
    "    ```json\n",
    "    {\n",
    "      \"username\": \"justinmarlor\",\n",
    "      \"key\": \"b98017f9291bfa83686f6c6780d38e04\"\n",
    "    }\n",
    "    ```\n",
    "4. Execute each cell in sequence."
   ]
  },
  {
   "cell_type": "markdown",
   "metadata": {},
   "source": [
    "#### Cell 1: Imports and TimeSeries class"
   ]
  },
  {
   "cell_type": "code",
   "execution_count": 8,
   "metadata": {},
   "outputs": [],
   "source": [
    "import pandas as pd\n",
    "import subprocess\n",
    "import matplotlib.pyplot as plt\n",
    "import torch\n",
    "import torch.nn as nn\n",
    "from torch.utils.data import Dataset, DataLoader, random_split\n",
    "from torch.autograd import Variable\n",
    "from torch.nn import GRU, RNN\n",
    "from sklearn.preprocessing import StandardScaler\n",
    "from sklearn.decomposition import PCA\n",
    "\n",
    "class TimeSeriesDataset(torch.utils.data.Dataset):\n",
    "    def __init__(self, tensor, seq_length, target_idx):\n",
    "        self.tensor = tensor\n",
    "        self.seq_length = seq_length\n",
    "        self.target_idx = target_idx\n",
    "\n",
    "    def __len__(self):\n",
    "        return len(self.tensor) - self.seq_length\n",
    "\n",
    "    def __getitem__(self, idx):\n",
    "        seq = self.tensor[idx:idx + self.seq_length]\n",
    "        target = self.tensor[idx + self.seq_length, self.target_idx]\n",
    "        return seq, target "
   ]
  },
  {
   "cell_type": "markdown",
   "metadata": {},
   "source": [
    "#### Cell 2: Grabbing and preprocessing data"
   ]
  },
  {
   "cell_type": "code",
   "execution_count": 4,
   "metadata": {},
   "outputs": [
    {
     "name": "stdout",
     "output_type": "stream",
     "text": [
      "Installing dependencies from lock file\n",
      "\n",
      "No dependencies to install or update\n",
      "\n",
      "Installing the current project: kaggle-bitcoin (0.1.0)\n",
      "Warning: Your Kaggle API key is readable by other users on this system! To fix this, you can run 'chmod 600 /home/Jmarlor/.config/kaggle/kaggle.json'\n",
      "Current time (UTC): 2025-04-28 17:52:16.505831+00:00\n",
      "Downloading dataset metadata from Kaggle...\n",
      "Warning: Looks like you're using an outdated API Version, please consider updating (server 1.7.4.2 / client 1.6.17)\n",
      "Downloading dataset from Kaggle...\n",
      "Dataset URL: https://www.kaggle.com/datasets/mczielinski/bitcoin-historical-data\n",
      "Checking for missing data...\n",
      "Last data point in dataset: 2025-04-28 00:46:00+00:00 (Unix: 1745801160)\n",
      "Current time (minus buffer): 2025-04-28 17:42:50.777898+00:00 (Unix: 1745862170)\n",
      "Gap of 61010 seconds detected.\n",
      "Missing data detected.\n",
      "Fetching data from 2025-04-28 00:46:00+00:00 to 2025-04-28 17:42:50+00:00\n",
      "Fetching chunk 1/2: 2025-04-28 00:46:00+00:00 to 2025-04-28 17:26:00+00:00\n",
      "  - Retrieved 1000 data points\n",
      "Fetching chunk 2/2: 2025-04-28 17:26:00+00:00 to 2025-04-28 17:42:50+00:00\n",
      "  - Retrieved 1000 data points\n",
      "Total new data points: 2000\n",
      "Combined dataset size before deduplication: 7007326\n",
      "Final dataset size after deduplication: 7006342\n",
      "Updated dataset saved to upload/btcusd_1-min_data.csv\n",
      "\n",
      "/home/Jmarlor/CS345/bitcoin-rnn/kaggle-bitcoin/kaggle_bitcoin/kaggle_update_bitcoin.py:66: DtypeWarning: Columns (6) have mixed types. Specify dtype option on import or set low_memory=False.\n",
      "  df = pd.read_csv(existing_data_filename)\n",
      "/home/Jmarlor/CS345/bitcoin-rnn/kaggle-bitcoin/kaggle_bitcoin/kaggle_update_bitcoin.py:109: DtypeWarning: Columns (6) have mixed types. Specify dtype option on import or set low_memory=False.\n",
      "  df_existing = pd.read_csv(existing_data_filename)\n",
      "\n"
     ]
    },
    {
     "data": {
      "text/html": [
       "<div>\n",
       "<style scoped>\n",
       "    .dataframe tbody tr th:only-of-type {\n",
       "        vertical-align: middle;\n",
       "    }\n",
       "\n",
       "    .dataframe tbody tr th {\n",
       "        vertical-align: top;\n",
       "    }\n",
       "\n",
       "    .dataframe thead th {\n",
       "        text-align: right;\n",
       "    }\n",
       "</style>\n",
       "<table border=\"1\" class=\"dataframe\">\n",
       "  <thead>\n",
       "    <tr style=\"text-align: right;\">\n",
       "      <th></th>\n",
       "      <th>Timestamp</th>\n",
       "      <th>Open</th>\n",
       "      <th>High</th>\n",
       "      <th>Low</th>\n",
       "      <th>Close</th>\n",
       "      <th>Volume</th>\n",
       "      <th>datetime</th>\n",
       "    </tr>\n",
       "  </thead>\n",
       "  <tbody>\n",
       "    <tr>\n",
       "      <th>0</th>\n",
       "      <td>1.325412e+09</td>\n",
       "      <td>4.58</td>\n",
       "      <td>4.58</td>\n",
       "      <td>4.58</td>\n",
       "      <td>4.58</td>\n",
       "      <td>0.000000</td>\n",
       "      <td>2012-01-01 10:01:00</td>\n",
       "    </tr>\n",
       "    <tr>\n",
       "      <th>1</th>\n",
       "      <td>1.325412e+09</td>\n",
       "      <td>4.58</td>\n",
       "      <td>4.58</td>\n",
       "      <td>4.58</td>\n",
       "      <td>4.58</td>\n",
       "      <td>0.000000</td>\n",
       "      <td>2012-01-01 10:02:00</td>\n",
       "    </tr>\n",
       "    <tr>\n",
       "      <th>2</th>\n",
       "      <td>1.325412e+09</td>\n",
       "      <td>4.58</td>\n",
       "      <td>4.58</td>\n",
       "      <td>4.58</td>\n",
       "      <td>4.58</td>\n",
       "      <td>0.000000</td>\n",
       "      <td>2012-01-01 10:03:00</td>\n",
       "    </tr>\n",
       "    <tr>\n",
       "      <th>3</th>\n",
       "      <td>1.325412e+09</td>\n",
       "      <td>4.58</td>\n",
       "      <td>4.58</td>\n",
       "      <td>4.58</td>\n",
       "      <td>4.58</td>\n",
       "      <td>0.000000</td>\n",
       "      <td>2012-01-01 10:04:00</td>\n",
       "    </tr>\n",
       "    <tr>\n",
       "      <th>4</th>\n",
       "      <td>1.325412e+09</td>\n",
       "      <td>4.58</td>\n",
       "      <td>4.58</td>\n",
       "      <td>4.58</td>\n",
       "      <td>4.58</td>\n",
       "      <td>0.000000</td>\n",
       "      <td>2012-01-01 10:05:00</td>\n",
       "    </tr>\n",
       "    <tr>\n",
       "      <th>...</th>\n",
       "      <td>...</td>\n",
       "      <td>...</td>\n",
       "      <td>...</td>\n",
       "      <td>...</td>\n",
       "      <td>...</td>\n",
       "      <td>...</td>\n",
       "      <td>...</td>\n",
       "    </tr>\n",
       "    <tr>\n",
       "      <th>7006337</th>\n",
       "      <td>1.745862e+09</td>\n",
       "      <td>93800.00</td>\n",
       "      <td>93857.00</td>\n",
       "      <td>93800.00</td>\n",
       "      <td>93857.00</td>\n",
       "      <td>0.007501</td>\n",
       "      <td>2025-04-28 17:38:00</td>\n",
       "    </tr>\n",
       "    <tr>\n",
       "      <th>7006338</th>\n",
       "      <td>1.745862e+09</td>\n",
       "      <td>93900.00</td>\n",
       "      <td>93912.00</td>\n",
       "      <td>93897.00</td>\n",
       "      <td>93899.00</td>\n",
       "      <td>0.129609</td>\n",
       "      <td>2025-04-28 17:39:00</td>\n",
       "    </tr>\n",
       "    <tr>\n",
       "      <th>7006339</th>\n",
       "      <td>1.745862e+09</td>\n",
       "      <td>93898.00</td>\n",
       "      <td>93898.00</td>\n",
       "      <td>93867.00</td>\n",
       "      <td>93867.00</td>\n",
       "      <td>0.767242</td>\n",
       "      <td>2025-04-28 17:40:00</td>\n",
       "    </tr>\n",
       "    <tr>\n",
       "      <th>7006340</th>\n",
       "      <td>1.745862e+09</td>\n",
       "      <td>93868.00</td>\n",
       "      <td>93868.00</td>\n",
       "      <td>93855.00</td>\n",
       "      <td>93855.00</td>\n",
       "      <td>0.539900</td>\n",
       "      <td>2025-04-28 17:41:00</td>\n",
       "    </tr>\n",
       "    <tr>\n",
       "      <th>7006341</th>\n",
       "      <td>1.745862e+09</td>\n",
       "      <td>93842.00</td>\n",
       "      <td>93853.00</td>\n",
       "      <td>93842.00</td>\n",
       "      <td>93842.00</td>\n",
       "      <td>0.011659</td>\n",
       "      <td>2025-04-28 17:42:00</td>\n",
       "    </tr>\n",
       "  </tbody>\n",
       "</table>\n",
       "<p>7006342 rows × 7 columns</p>\n",
       "</div>"
      ],
      "text/plain": [
       "            Timestamp      Open      High       Low     Close    Volume  \\\n",
       "0        1.325412e+09      4.58      4.58      4.58      4.58  0.000000   \n",
       "1        1.325412e+09      4.58      4.58      4.58      4.58  0.000000   \n",
       "2        1.325412e+09      4.58      4.58      4.58      4.58  0.000000   \n",
       "3        1.325412e+09      4.58      4.58      4.58      4.58  0.000000   \n",
       "4        1.325412e+09      4.58      4.58      4.58      4.58  0.000000   \n",
       "...               ...       ...       ...       ...       ...       ...   \n",
       "7006337  1.745862e+09  93800.00  93857.00  93800.00  93857.00  0.007501   \n",
       "7006338  1.745862e+09  93900.00  93912.00  93897.00  93899.00  0.129609   \n",
       "7006339  1.745862e+09  93898.00  93898.00  93867.00  93867.00  0.767242   \n",
       "7006340  1.745862e+09  93868.00  93868.00  93855.00  93855.00  0.539900   \n",
       "7006341  1.745862e+09  93842.00  93853.00  93842.00  93842.00  0.011659   \n",
       "\n",
       "                   datetime  \n",
       "0       2012-01-01 10:01:00  \n",
       "1       2012-01-01 10:02:00  \n",
       "2       2012-01-01 10:03:00  \n",
       "3       2012-01-01 10:04:00  \n",
       "4       2012-01-01 10:05:00  \n",
       "...                     ...  \n",
       "7006337 2025-04-28 17:38:00  \n",
       "7006338 2025-04-28 17:39:00  \n",
       "7006339 2025-04-28 17:40:00  \n",
       "7006340 2025-04-28 17:41:00  \n",
       "7006341 2025-04-28 17:42:00  \n",
       "\n",
       "[7006342 rows x 7 columns]"
      ]
     },
     "metadata": {},
     "output_type": "display_data"
    }
   ],
   "source": [
    "result = subprocess.run(['bash', './add-run-kaggle-bitcoin'], capture_output=True,text=True)\n",
    "\n",
    "print(result.stdout)\n",
    "print(result.stderr)\n",
    "\n",
    "if result.returncode == 0:\n",
    "    df = pd.read_csv(\"kaggle-bitcoin/upload/btcusd_1-min_data.csv\", dtype={\"Volume\": float}, low_memory=False)\n",
    "    df['datetime'] = pd.to_datetime(df['Timestamp'].astype('Int64'), unit='s', errors='coerce')\n",
    "    display(df)"
   ]
  },
  {
   "cell_type": "markdown",
   "metadata": {},
   "source": [
    "#### PCA"
   ]
  },
  {
   "cell_type": "code",
   "execution_count": null,
   "metadata": {},
   "outputs": [
    {
     "name": "stdout",
     "output_type": "stream",
     "text": [
      "             PC1       PC2\n",
      "Open    0.499138  0.029356\n",
      "High    0.499137  0.029428\n",
      "Low     0.499139  0.029270\n",
      "Close   0.499138  0.029349\n",
      "Volume -0.058702  0.998276\n"
     ]
    }
   ],
   "source": [
    "X = df.drop(columns=['Timestamp', 'datetime'])\n",
    "\n",
    "# Standardizing data\n",
    "X_scaled = StandardScaler().fit_transform(X)\n",
    "\n",
    "pca = PCA(n_components=2)\n",
    "X_pca = pca.fit_transform(X_scaled)\n",
    "\n",
    "loadings = pd.DataFrame(pca.components_.T, \n",
    "                        columns=['PC1', 'PC2'], \n",
    "                        index=X.columns)\n",
    "print(loadings)"
   ]
  },
  {
   "cell_type": "markdown",
   "metadata": {},
   "source": [
    "This PCA shows us that there is a very similar correlation value between each of the 'open', 'high', 'low', 'close' columns. The trading volume is the other feature that has a strong correlation to the price of bitcoin. We will proceed to train the models using 2 features to reduce redundancy."
   ]
  },
  {
   "cell_type": "markdown",
   "metadata": {},
   "source": []
  },
  {
   "cell_type": "markdown",
   "metadata": {},
   "source": [
    "#### Cell 3: plotting current dataset"
   ]
  },
  {
   "cell_type": "code",
   "execution_count": 9,
   "metadata": {},
   "outputs": [
    {
     "name": "stderr",
     "output_type": "stream",
     "text": [
      "/tmp/ipykernel_4446/4180151121.py:8: UserWarning: Creating legend with loc=\"best\" can be slow with large amounts of data.\n",
      "  plt.tight_layout()\n",
      "/home/Jmarlor/CS345/bitcoin-rnn/venv/lib/python3.12/site-packages/IPython/core/pylabtools.py:170: UserWarning: Creating legend with loc=\"best\" can be slow with large amounts of data.\n",
      "  fig.canvas.print_figure(bytes_io, **kw)\n"
     ]
    },
    {
     "data": {
      "image/png": "[encoded data removed]",
      "text/plain": [
       "<Figure size 640x480 with 1 Axes>"
      ]
     },
     "metadata": {},
     "output_type": "display_data"
    }
   ],
   "source": [
    "plt.plot(df['datetime'], df['Close'], label='close', color='orange')\n",
    "plt.xlabel('datetime')\n",
    "plt.ylabel('price')\n",
    "plt.title('ohlc time series')\n",
    "plt.legend()\n",
    "plt.xticks(rotation=45)\n",
    "plt.grid(True)\n",
    "plt.tight_layout()\n",
    "plt.show()"
   ]
  },
  {
   "cell_type": "markdown",
   "metadata": {},
   "source": [
    "#### Cell 4: Create tensor and define functions"
   ]
  },
  {
   "cell_type": "code",
   "execution_count": null,
   "metadata": {},
   "outputs": [],
   "source": [
    "df_tensor = df.drop(columns=['datetime'],).astype('float32').dropna()\n",
    "scaler = StandardScaler()\n",
    "normalized_values = scaler.fit_transform(df_tensor.values)\n",
    "tensor = torch.tensor(df_tensor.values, dtype=torch.float32)\n",
    "close_idx = df.columns.get_loc('Close')\n",
    "\n",
    "def create_sequences(tensor, seq_length, target_idx):\n",
    "  sequences = []\n",
    "  targets = []\n",
    "\n",
    "  for i in range(len(tensor) - seq_length):\n",
    "    seq = tensor[i:i + seq_length]\n",
    "    target_value =  tensor[i + seq_length, target_idx]\n",
    "    sequences.append(seq)\n",
    "    targets.append(target_value) \n",
    "  return torch.stack(sequences), torch.tensor(targets).unsqueeze(1)\n",
    "\n",
    "seq_length = 60\n",
    "batch_size = 64\n",
    "dataset = TimeSeriesDataset(tensor, seq_length, close_idx)\n",
    "\n",
    "train_size = int(0.95 * len(dataset))\n",
    "val_size = len(dataset) - train_size\n",
    "train_dataset, val_dataset = random_split(dataset, [train_size, val_size])\n",
    "train_loader = DataLoader(train_dataset, batch_size=batch_size, shuffle=True)\n",
    "val_loader = DataLoader(val_dataset, batch_size=batch_size)\n",
    "\n",
    "def train_model(model, train_loader, val_loader, num_epochs=4, lr=1e-3):\n",
    "  loss_fn = nn.MSELoss()\n",
    "  optimizer = torch.optim.Adam(model.parameters(), lr=1e-3)\n",
    "  \n",
    "  for epoch in range(num_epochs):\n",
    "    model.train() \n",
    "    total_loss = 0 \n",
    "    for batch_X, batch_y in train_loader:\n",
    "      pred = model(batch_X)\n",
    "      loss = loss_fn(pred.squeeze(), batch_y)\n",
    "      optimizer.zero_grad() \n",
    "      loss.backward()\n",
    "      optimizer.step() \n",
    "      total_loss += loss.item() \n",
    "    model.eval()\n",
    "    val_loss = 0\n",
    "    with torch.no_grad():\n",
    "      for val_X, val_y in val_loader:\n",
    "        val_pred = model(val_X)\n",
    "        val_loss += loss_fn(val_pred.squeeze(), val_y).item()\n",
    "    print(f\"epoch {epoch + 1}, train loss: {total_loss / len(train_loader):.4f}, val loss: {val_loss / len(val_loader):.4f}\") \n"
   ]
  },
  {
   "cell_type": "markdown",
   "metadata": {},
   "source": [
    "#### Cell 5: RNN model training class"
   ]
  },
  {
   "cell_type": "code",
   "execution_count": null,
   "metadata": {},
   "outputs": [],
   "source": [
    "class RNNModel(nn.Module):\n",
    "    def __init__(self, input_dim, hidden_dim, layer_dim=1):\n",
    "        super(RNNModel, self).__init__()\n",
    "        self.hidden_dim = hidden_dim\n",
    "        self.layer_dim = layer_dim\n",
    "        self.rnn = nn.RNN(input_dim, hidden_dim, layer_dim, batch_first=True, nonlinearity='relu')\n",
    "        self.fc = nn.Linear(hidden_dim, 1)\n",
    "    \n",
    "    def forward(self, x):\n",
    "        out, _ = self.rnn(x)\n",
    "        out = self.fc(out[:, -1, :]) \n",
    "        return out"
   ]
  },
  {
   "cell_type": "markdown",
   "metadata": {},
   "source": [
    "#### Cell 6: Training RNN Model + storing data into .pth file"
   ]
  },
  {
   "cell_type": "code",
   "execution_count": null,
   "metadata": {},
   "outputs": [],
   "source": [
    "rnn_model = RNNModel(input_dim=tensor.shape[1], hidden_dim=64)\n",
    "train_model(rnn_model, train_loader, val_loader) \n",
    "torch.save(rnn_model.state_dict(), \"rnn_model.pth\")"
   ]
  },
  {
   "cell_type": "markdown",
   "metadata": {},
   "source": [
    "#### Cell 7: To load trained RNN data"
   ]
  },
  {
   "cell_type": "code",
   "execution_count": null,
   "metadata": {},
   "outputs": [],
   "source": [
    "rnn_model = RNNModel(input_dim=tensor.shape[1], hidden_dim=64)\n",
    "rnn_model.load_state_dict(torch.load(\"rnn_model.pth\"))"
   ]
  },
  {
   "cell_type": "markdown",
   "metadata": {},
   "source": [
    "#### Cell 8: Recursive prediction method"
   ]
  },
  {
   "cell_type": "code",
   "execution_count": null,
   "metadata": {},
   "outputs": [],
   "source": [
    "def predict_future(model, input_seq, steps, target_idx):\n",
    "    model.eval()\n",
    "    predictions = []\n",
    "    seq = input_seq.clone()\n",
    "\n",
    "    with torch.no_grad():\n",
    "        for _ in range(steps):\n",
    "            pred = model(seq.unsqueeze(0))\n",
    "            pred_value = pred.item()\n",
    "            predictions.append(pred_value)\n",
    "\n",
    "            # Create the next sequence by shifting and adding the prediction\n",
    "            new_step = seq[-1].clone()\n",
    "            new_step[target_idx] = pred_value  # Only update the target (Close price)\n",
    "            seq = torch.cat((seq[1:], new_step.unsqueeze(0)), dim=0)\n",
    "\n",
    "    return predictions"
   ]
  },
  {
   "cell_type": "markdown",
   "metadata": {},
   "source": [
    "#### Cell 9: How many values we will predict with our trained model."
   ]
  },
  {
   "cell_type": "code",
   "execution_count": null,
   "metadata": {},
   "outputs": [],
   "source": [
    "last_seq = tensor[-seq_length:]  # Get the last sequence from the dataset\n",
    "future_steps = 100  # our chosen number of predictions\n",
    "normalized_predictions = predict_future(rnn_model, last_seq, steps=future_steps, target_idx=close_idx)\n",
    "print(normalized_predictions)\n",
    "print(set(normalized_predictions))"
   ]
  },
  {
   "cell_type": "markdown",
   "metadata": {},
   "source": [
    "#### Cell 10: LSTM model training class"
   ]
  },
  {
   "cell_type": "code",
   "execution_count": null,
   "metadata": {},
   "outputs": [],
   "source": [
    "class LSTMModel(nn.Module):\n",
    "  def __init__(self, input_dim, hidden_dim, layer_dim=1):\n",
    "    super(LSTMModel, self).__init__()\n",
    "    self.hidden_dim = hidden_dim\n",
    "    self.layer_dim = layer_dim\n",
    "    self.lstm = nn.LSTM(input_dim, hidden_dim, layer_dim, batch_first=True) \n",
    "    self.fc = nn.Linear(hidden_dim, 1)\n",
    "\n",
    "  def forward(self, x): \n",
    "    out, _ = self.lstm(x)\n",
    "    out = self.fc(out[:, -1, :])\n",
    "    return out"
   ]
  },
  {
   "cell_type": "markdown",
   "metadata": {},
   "source": [
    "#### Cell 11: Training LSTM against dataset, then saving it in a `*.pth` file"
   ]
  },
  {
   "cell_type": "code",
   "execution_count": null,
   "metadata": {},
   "outputs": [],
   "source": [
    "lstm_model = LSTMModel(input_dim = tensor.shape[1], hidden_dim=64)\n",
    "train_model(lstm_model, train_loader, val_loader)\n",
    "torch.save(lstm_model.state_dict(), \"lstm_model.pth\")"
   ]
  },
  {
   "cell_type": "markdown",
   "metadata": {},
   "source": [
    "#### Loading trained LSTM Model data"
   ]
  },
  {
   "cell_type": "code",
   "execution_count": null,
   "metadata": {},
   "outputs": [],
   "source": [
    "lstm_model = LSTMModel(input_dim=tensor.shape[1], hidden_dim=64)\n",
    "lstm_model.load_state_dict(torch.load(\"lstm_model.pth\"))"
   ]
  },
  {
   "cell_type": "code",
   "execution_count": null,
   "metadata": {},
   "outputs": [],
   "source": [
    "last_seq = tensor[-seq_length:]  # Get the last sequence from the dataset\n",
    "future_steps = 100  # our chosen number of predictions\n",
    "normalized_predictions = predict_future(lstm_model, last_seq, steps=future_steps, target_idx=close_idx)\n",
    "print(normalized_predictions)\n",
    "print(set(normalized_predictions))"
   ]
  }
 ],
 "metadata": {
  "kernelspec": {
   "display_name": "venv",
   "language": "python",
   "name": "python3"
  },
  "language_info": {
   "codemirror_mode": {
    "name": "ipython",
    "version": 3
   },
   "file_extension": ".py",
   "mimetype": "text/x-python",
   "name": "python",
   "nbconvert_exporter": "python",
   "pygments_lexer": "ipython3",
   "version": "3.12.3"
  }
 },
 "nbformat": 4,
 "nbformat_minor": 4
}
