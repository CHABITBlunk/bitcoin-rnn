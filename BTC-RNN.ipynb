{
 "cells": [
  {
   "cell_type": "markdown",
   "metadata": {},
   "source": [
    "# <strong>Bitcoin Recurrent Neural Network<strong>\n",
    "### Justin Marlor & Habit Blunk\n",
    "##### *Colorado State University*"
   ]
  },
  {
   "cell_type": "code",
   "execution_count": 1,
   "metadata": {},
   "outputs": [
    {
     "name": "stdout",
     "output_type": "stream",
     "text": [
      "Installing dependencies from lock file\n",
      "\n",
      "No dependencies to install or update\n",
      "\n",
      "Installing the current project: kaggle-bitcoin (0.1.0)\n",
      "\n",
      "The lock file might not be compatible with the current version of Poetry.\n",
      "Upgrade Poetry to ensure the lock file is read properly or, alternatively, regenerate the lock file with the `poetry lock` command.\n",
      "Traceback (most recent call last):\n",
      "  File \"/home/Jmarlor/CS345/bitcoin-rnn/kaggle-bitcoin/kaggle_bitcoin/kaggle_update_bitcoin.py\", line 5, in <module>\n",
      "    import kaggle\n",
      "  File \"/home/Jmarlor/.cache/pypoetry/virtualenvs/kaggle-bitcoin-BCoBIEpq-py3.12/lib/python3.12/site-packages/kaggle/__init__.py\", line 7, in <module>\n",
      "    api.authenticate()\n",
      "  File \"/home/Jmarlor/.cache/pypoetry/virtualenvs/kaggle-bitcoin-BCoBIEpq-py3.12/lib/python3.12/site-packages/kaggle/api/kaggle_api_extended.py\", line 407, in authenticate\n",
      "    raise IOError('Could not find {}. Make sure it\\'s located in'\n",
      "OSError: Could not find kaggle.json. Make sure it's located in /home/Jmarlor/.config/kaggle. Or use the environment method. See setup instructions at https://github.com/Kaggle/kaggle-api/\n",
      "\n"
     ]
    }
   ],
   "source": [
    "# Imports\n",
    "import pandas as pd\n",
    "import subprocess\n",
    "\n",
    "result = subprocess.run(['bash', './add-run-kaggle-bitcoin'], capture_output=True,text=True)\n",
    "\n",
    "print(result.stdout)\n",
    "print(result.stderr)\n",
    "\n",
    "if result.returncode == 0:\n",
    "  df = pd.read_csv(\"kaggle-bitcoin/upload/btcusd_1-min_data.csv\")\n",
    "  display(df)"
   ]
  },
  {
   "cell_type": "code",
   "execution_count": null,
   "metadata": {},
   "outputs": [],
   "source": [
    "import torch\n",
    "import torch.nn as nn\n",
    "from torch.nn import GRU"
   ]
  }
 ],
 "metadata": {
  "kernelspec": {
   "display_name": "Python 3",
   "language": "python",
   "name": "python3"
  },
  "language_info": {
   "codemirror_mode": {
    "name": "ipython",
    "version": 3
   },
   "file_extension": ".py",
   "mimetype": "text/x-python",
   "name": "python",
   "nbconvert_exporter": "python",
   "pygments_lexer": "ipython3",
   "version": "3.12.3"
  }
 },
 "nbformat": 4,
 "nbformat_minor": 2
}
